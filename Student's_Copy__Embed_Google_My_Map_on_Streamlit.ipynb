{
  "nbformat": 4,
  "nbformat_minor": 0,
  "metadata": {
    "colab": {
      "provenance": []
    },
    "kernelspec": {
      "name": "python3",
      "display_name": "Python 3"
    },
    "language_info": {
      "name": "python"
    }
  },
  "cells": [
    {
      "cell_type": "markdown",
      "source": [
        "![image.png](data:image/png;base64,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)"
      ],
      "metadata": {
        "id": "ttRLB0o1SV9K"
      }
    },
    {
      "cell_type": "markdown",
      "source": [
        "# Google My Map data from LondonDerry"
      ],
      "metadata": {
        "id": "8DijeygCljW0"
      }
    },
    {
      "cell_type": "markdown",
      "source": [
        "Here’s the spreadsheet, which includes data from 2022: https://docs.google.com/spreadsheets/d/1ZPTKJeGxUNG40MkRohbDrCifP0STABGY11Vn8ASzTxo/edit?usp=drive_link\n",
        "\n",
        "Here’s the map: https://www.google.com/maps/d/u/0/edit?mid=1jQ1HjABF3IAWsfOrDskcluzLQvcST-Q&usp=sharing\n"
      ],
      "metadata": {
        "id": "rHpA_oSkaS8P"
      }
    },
    {
      "cell_type": "markdown",
      "source": [
        "# Embed Google My Map & Deploy on Streamlit"
      ],
      "metadata": {
        "id": "YUWd2TkKzvQR"
      }
    },
    {
      "cell_type": "markdown",
      "source": [
        "[Google My Maps Edmonton Food Drive](https://www.google.com/maps/d/u/0/edit?mid=17DiGBl3b_YXEjM3X_mazSTBdGtILgwE&ll=53.51955687148456%2C-113.52081613035011&z=11)"
      ],
      "metadata": {
        "id": "rhxKBjys20Fw"
      }
    },
    {
      "cell_type": "markdown",
      "source": [
        "\n",
        "\n",
        "1. **Create a Google Form:**\n",
        "   First, create your Google Form if you haven't already. Go to Google Forms (forms.google.com) and create a new form or open an existing one.\n",
        "\n",
        "2. **Add a New Question:**\n",
        "   In your Google Form, add a new question where you want to embed the Google Map. Click on the '+' button to add a new question and choose 'Multiple choice' or 'Short answer' as the question type. This will create a new question on your form.\n",
        "\n",
        "3. **Enable Location Services:**\n",
        "   For the question you just created, click on the three dots at the bottom right of the question box. From the options, select 'Response validation'. Here, you can choose 'Number' as the type and set the minimum and maximum values to limit the latitude and longitude values to valid ranges.\n",
        "\n",
        "4. **Get Google Maps Embed Code:**\n",
        "   Go to maps.google.com. Enter the location you want to display on the map. Click on the share button and then select 'Embed a map'. Customize the map size, zoom level, and other settings according to your preferences.\n",
        "\n",
        "5. **Copy the Embed Code:**\n",
        "   After customizing the map, copy the provided embed code. It will look something like `<iframe src=\"https://www.google.com/maps/embed?...\"></iframe>`.\n",
        "\n",
        "6. **Paste the Embed Code in the Form:**\n",
        "   Go back to your Google Form. In the question where you want to embed the map, click on the three dots and select 'Data validation'. In the 'Criteria' section, choose 'Number' and then select 'Regular expression'. Paste the copied embed code in the 'Pattern' field. This allows the form to accept the HTML code for embedding the map.\n",
        "\n",
        "7. **Save and Share:**\n",
        "   Save your form. When respondents fill out the form and reach the question with the embedded map, they will see the map displayed directly in the form.\n",
        "\n",
        "Remember that embedding Google Maps might require proper usage rights and compliance with Google's terms of service. Always ensure you have the right permissions for the content you are embedding."
      ],
      "metadata": {
        "id": "cYP_9zhE26o8"
      }
    },
    {
      "cell_type": "code",
      "execution_count": 1,
      "metadata": {
        "colab": {
          "base_uri": "https://localhost:8080/"
        },
        "id": "cx8c5qzRgEqy",
        "outputId": "1743d48d-2351-499e-b27e-693e0476bc43"
      },
      "outputs": [
        {
          "output_type": "stream",
          "name": "stdout",
          "text": [
            "Collecting streamlit\n",
            "  Downloading streamlit-1.28.2-py2.py3-none-any.whl (8.4 MB)\n",
            "\u001b[2K     \u001b[90m━━━━━━━━━━━━━━━━━━━━━━━━━━━━━━━━━━━━━━━━\u001b[0m \u001b[32m8.4/8.4 MB\u001b[0m \u001b[31m46.3 MB/s\u001b[0m eta \u001b[36m0:00:00\u001b[0m\n",
            "\u001b[?25hRequirement already satisfied: altair<6,>=4.0 in /usr/local/lib/python3.10/dist-packages (from streamlit) (4.2.2)\n",
            "Requirement already satisfied: blinker<2,>=1.0.0 in /usr/lib/python3/dist-packages (from streamlit) (1.4)\n",
            "Requirement already satisfied: cachetools<6,>=4.0 in /usr/local/lib/python3.10/dist-packages (from streamlit) (5.3.2)\n",
            "Requirement already satisfied: click<9,>=7.0 in /usr/local/lib/python3.10/dist-packages (from streamlit) (8.1.7)\n",
            "Requirement already satisfied: importlib-metadata<7,>=1.4 in /usr/local/lib/python3.10/dist-packages (from streamlit) (6.8.0)\n",
            "Requirement already satisfied: numpy<2,>=1.19.3 in /usr/local/lib/python3.10/dist-packages (from streamlit) (1.23.5)\n",
            "Requirement already satisfied: packaging<24,>=16.8 in /usr/local/lib/python3.10/dist-packages (from streamlit) (23.2)\n",
            "Requirement already satisfied: pandas<3,>=1.3.0 in /usr/local/lib/python3.10/dist-packages (from streamlit) (1.5.3)\n",
            "Requirement already satisfied: pillow<11,>=7.1.0 in /usr/local/lib/python3.10/dist-packages (from streamlit) (9.4.0)\n",
            "Requirement already satisfied: protobuf<5,>=3.20 in /usr/local/lib/python3.10/dist-packages (from streamlit) (3.20.3)\n",
            "Requirement already satisfied: pyarrow>=6.0 in /usr/local/lib/python3.10/dist-packages (from streamlit) (9.0.0)\n",
            "Requirement already satisfied: python-dateutil<3,>=2.7.3 in /usr/local/lib/python3.10/dist-packages (from streamlit) (2.8.2)\n",
            "Requirement already satisfied: requests<3,>=2.27 in /usr/local/lib/python3.10/dist-packages (from streamlit) (2.31.0)\n",
            "Requirement already satisfied: rich<14,>=10.14.0 in /usr/local/lib/python3.10/dist-packages (from streamlit) (13.7.0)\n",
            "Requirement already satisfied: tenacity<9,>=8.1.0 in /usr/local/lib/python3.10/dist-packages (from streamlit) (8.2.3)\n",
            "Requirement already satisfied: toml<2,>=0.10.1 in /usr/local/lib/python3.10/dist-packages (from streamlit) (0.10.2)\n",
            "Requirement already satisfied: typing-extensions<5,>=4.3.0 in /usr/local/lib/python3.10/dist-packages (from streamlit) (4.5.0)\n",
            "Requirement already satisfied: tzlocal<6,>=1.1 in /usr/local/lib/python3.10/dist-packages (from streamlit) (5.2)\n",
            "Collecting validators<1,>=0.2 (from streamlit)\n",
            "  Downloading validators-0.22.0-py3-none-any.whl (26 kB)\n",
            "Collecting gitpython!=3.1.19,<4,>=3.0.7 (from streamlit)\n",
            "  Downloading GitPython-3.1.40-py3-none-any.whl (190 kB)\n",
            "\u001b[2K     \u001b[90m━━━━━━━━━━━━━━━━━━━━━━━━━━━━━━━━━━━━━━━━\u001b[0m \u001b[32m190.6/190.6 kB\u001b[0m \u001b[31m9.4 MB/s\u001b[0m eta \u001b[36m0:00:00\u001b[0m\n",
            "\u001b[?25hCollecting pydeck<1,>=0.8.0b4 (from streamlit)\n",
            "  Downloading pydeck-0.8.1b0-py2.py3-none-any.whl (4.8 MB)\n",
            "\u001b[2K     \u001b[90m━━━━━━━━━━━━━━━━━━━━━━━━━━━━━━━━━━━━━━━━\u001b[0m \u001b[32m4.8/4.8 MB\u001b[0m \u001b[31m33.7 MB/s\u001b[0m eta \u001b[36m0:00:00\u001b[0m\n",
            "\u001b[?25hRequirement already satisfied: tornado<7,>=6.0.3 in /usr/local/lib/python3.10/dist-packages (from streamlit) (6.3.2)\n",
            "Collecting watchdog>=2.1.5 (from streamlit)\n",
            "  Downloading watchdog-3.0.0-py3-none-manylinux2014_x86_64.whl (82 kB)\n",
            "\u001b[2K     \u001b[90m━━━━━━━━━━━━━━━━━━━━━━━━━━━━━━━━━━━━━━━━\u001b[0m \u001b[32m82.1/82.1 kB\u001b[0m \u001b[31m3.5 MB/s\u001b[0m eta \u001b[36m0:00:00\u001b[0m\n",
            "\u001b[?25hRequirement already satisfied: entrypoints in /usr/local/lib/python3.10/dist-packages (from altair<6,>=4.0->streamlit) (0.4)\n",
            "Requirement already satisfied: jinja2 in /usr/local/lib/python3.10/dist-packages (from altair<6,>=4.0->streamlit) (3.1.2)\n",
            "Requirement already satisfied: jsonschema>=3.0 in /usr/local/lib/python3.10/dist-packages (from altair<6,>=4.0->streamlit) (4.19.2)\n",
            "Requirement already satisfied: toolz in /usr/local/lib/python3.10/dist-packages (from altair<6,>=4.0->streamlit) (0.12.0)\n",
            "Collecting gitdb<5,>=4.0.1 (from gitpython!=3.1.19,<4,>=3.0.7->streamlit)\n",
            "  Downloading gitdb-4.0.11-py3-none-any.whl (62 kB)\n",
            "\u001b[2K     \u001b[90m━━━━━━━━━━━━━━━━━━━━━━━━━━━━━━━━━━━━━━━━\u001b[0m \u001b[32m62.7/62.7 kB\u001b[0m \u001b[31m2.5 MB/s\u001b[0m eta \u001b[36m0:00:00\u001b[0m\n",
            "\u001b[?25hRequirement already satisfied: zipp>=0.5 in /usr/local/lib/python3.10/dist-packages (from importlib-metadata<7,>=1.4->streamlit) (3.17.0)\n",
            "Requirement already satisfied: pytz>=2020.1 in /usr/local/lib/python3.10/dist-packages (from pandas<3,>=1.3.0->streamlit) (2023.3.post1)\n",
            "Requirement already satisfied: six>=1.5 in /usr/local/lib/python3.10/dist-packages (from python-dateutil<3,>=2.7.3->streamlit) (1.16.0)\n",
            "Requirement already satisfied: charset-normalizer<4,>=2 in /usr/local/lib/python3.10/dist-packages (from requests<3,>=2.27->streamlit) (3.3.2)\n",
            "Requirement already satisfied: idna<4,>=2.5 in /usr/local/lib/python3.10/dist-packages (from requests<3,>=2.27->streamlit) (3.4)\n",
            "Requirement already satisfied: urllib3<3,>=1.21.1 in /usr/local/lib/python3.10/dist-packages (from requests<3,>=2.27->streamlit) (2.0.7)\n",
            "Requirement already satisfied: certifi>=2017.4.17 in /usr/local/lib/python3.10/dist-packages (from requests<3,>=2.27->streamlit) (2023.7.22)\n",
            "Requirement already satisfied: markdown-it-py>=2.2.0 in /usr/local/lib/python3.10/dist-packages (from rich<14,>=10.14.0->streamlit) (3.0.0)\n",
            "Requirement already satisfied: pygments<3.0.0,>=2.13.0 in /usr/local/lib/python3.10/dist-packages (from rich<14,>=10.14.0->streamlit) (2.16.1)\n",
            "Collecting smmap<6,>=3.0.1 (from gitdb<5,>=4.0.1->gitpython!=3.1.19,<4,>=3.0.7->streamlit)\n",
            "  Downloading smmap-5.0.1-py3-none-any.whl (24 kB)\n",
            "Requirement already satisfied: MarkupSafe>=2.0 in /usr/local/lib/python3.10/dist-packages (from jinja2->altair<6,>=4.0->streamlit) (2.1.3)\n",
            "Requirement already satisfied: attrs>=22.2.0 in /usr/local/lib/python3.10/dist-packages (from jsonschema>=3.0->altair<6,>=4.0->streamlit) (23.1.0)\n",
            "Requirement already satisfied: jsonschema-specifications>=2023.03.6 in /usr/local/lib/python3.10/dist-packages (from jsonschema>=3.0->altair<6,>=4.0->streamlit) (2023.11.1)\n",
            "Requirement already satisfied: referencing>=0.28.4 in /usr/local/lib/python3.10/dist-packages (from jsonschema>=3.0->altair<6,>=4.0->streamlit) (0.31.0)\n",
            "Requirement already satisfied: rpds-py>=0.7.1 in /usr/local/lib/python3.10/dist-packages (from jsonschema>=3.0->altair<6,>=4.0->streamlit) (0.13.0)\n",
            "Requirement already satisfied: mdurl~=0.1 in /usr/local/lib/python3.10/dist-packages (from markdown-it-py>=2.2.0->rich<14,>=10.14.0->streamlit) (0.1.2)\n",
            "Installing collected packages: watchdog, validators, smmap, pydeck, gitdb, gitpython, streamlit\n",
            "Successfully installed gitdb-4.0.11 gitpython-3.1.40 pydeck-0.8.1b0 smmap-5.0.1 streamlit-1.28.2 validators-0.22.0 watchdog-3.0.0\n"
          ]
        }
      ],
      "source": [
        "!pip install streamlit"
      ]
    },
    {
      "cell_type": "code",
      "source": [
        "%%writefile app.py\n",
        "import streamlit as st\n",
        "\n",
        "def main():\n",
        "    st.title('Streamlit App with Embedded My Google Map')\n",
        "    st.write('Here is an example of embedded LDS Londonderry Map:')\n",
        "\n",
        "    # Embedding Google Map using HTML iframe\n",
        "    st.markdown(\"\"\"\n",
        "    <iframe src=\"https://www.google.com/maps/d/embed?mid=1I4ctc8xxUrNL4lIuJWudf4BVLaOfwfQ&ehbc=2E312F\" width=\"640\" height=\"480\"></iframe>    \"\"\", unsafe_allow_html=True)\n",
        "\n",
        "if __name__ == \"__main__\":\n",
        "    main()\n",
        "\n"
      ],
      "metadata": {
        "colab": {
          "base_uri": "https://localhost:8080/"
        },
        "id": "JDMhYCjwgHxI",
        "outputId": "5e359f9c-a16d-45b8-c549-dc4498f6a07a"
      },
      "execution_count": 2,
      "outputs": [
        {
          "output_type": "stream",
          "name": "stdout",
          "text": [
            "Writing app.py\n"
          ]
        }
      ]
    },
    {
      "cell_type": "code",
      "metadata": {
        "colab": {
          "base_uri": "https://localhost:8080/"
        },
        "outputId": "9b846d0b-04a1-4566-a592-4b8f1fa5021b",
        "id": "ZAyqQCQVOoxC"
      },
      "source": [
        "!npm install localtunnel"
      ],
      "execution_count": 3,
      "outputs": [
        {
          "output_type": "stream",
          "name": "stdout",
          "text": [
            "\u001b[K\u001b[?25h\u001b[37;40mnpm\u001b[0m \u001b[0m\u001b[30;43mWARN\u001b[0m \u001b[0m\u001b[35msaveError\u001b[0m ENOENT: no such file or directory, open '/content/package.json'\n",
            "\u001b[0m\u001b[37;40mnpm\u001b[0m \u001b[0m\u001b[34;40mnotice\u001b[0m\u001b[35m\u001b[0m created a lockfile as package-lock.json. You should commit this file.\n",
            "\u001b[0m\u001b[37;40mnpm\u001b[0m \u001b[0m\u001b[30;43mWARN\u001b[0m \u001b[0m\u001b[35menoent\u001b[0m ENOENT: no such file or directory, open '/content/package.json'\n",
            "\u001b[0m\u001b[37;40mnpm\u001b[0m \u001b[0m\u001b[30;43mWARN\u001b[0m\u001b[35m\u001b[0m content No description\n",
            "\u001b[0m\u001b[37;40mnpm\u001b[0m \u001b[0m\u001b[30;43mWARN\u001b[0m\u001b[35m\u001b[0m content No repository field.\n",
            "\u001b[0m\u001b[37;40mnpm\u001b[0m \u001b[0m\u001b[30;43mWARN\u001b[0m\u001b[35m\u001b[0m content No README data\n",
            "\u001b[0m\u001b[37;40mnpm\u001b[0m \u001b[0m\u001b[30;43mWARN\u001b[0m\u001b[35m\u001b[0m content No license field.\n",
            "\u001b[0m\n",
            "+ localtunnel@2.0.2\n",
            "added 22 packages from 22 contributors and audited 22 packages in 3.347s\n",
            "\n",
            "3 packages are looking for funding\n",
            "  run `npm fund` for details\n",
            "\n",
            "found 1 \u001b[93mmoderate\u001b[0m severity vulnerability\n",
            "  run `npm audit fix` to fix them, or `npm audit` for details\n",
            "\u001b[K\u001b[?25h"
          ]
        }
      ]
    },
    {
      "cell_type": "markdown",
      "source": [],
      "metadata": {
        "id": "fkOHz20gd35l"
      }
    },
    {
      "cell_type": "markdown",
      "source": [
        "## Run streamlit in background"
      ],
      "metadata": {
        "id": "kccYE2lkN20y"
      }
    },
    {
      "cell_type": "code",
      "source": [
        "!streamlit run /content/app.py &>/content/logs.txt & curl ipv4.icanhazip.com"
      ],
      "metadata": {
        "id": "Zv912rRAN0fs",
        "colab": {
          "base_uri": "https://localhost:8080/"
        },
        "outputId": "124385cf-9986-455f-f4ec-e3e06e58e482"
      },
      "execution_count": 4,
      "outputs": [
        {
          "output_type": "stream",
          "name": "stdout",
          "text": [
            "34.75.192.5\n"
          ]
        }
      ]
    },
    {
      "cell_type": "markdown",
      "source": [
        "Copy this IP address."
      ],
      "metadata": {
        "id": "TPgzTZyc84pE"
      }
    },
    {
      "cell_type": "markdown",
      "source": [
        "## Expose the port 8501\n",
        "Then just click in the `url` showed.\n",
        "\n",
        "A `log.txt`file will be created."
      ],
      "metadata": {
        "id": "h_KW9juhOCuH"
      }
    },
    {
      "cell_type": "code",
      "source": [
        "!npx localtunnel --port 8501"
      ],
      "metadata": {
        "id": "XTGAizLhOIgC",
        "colab": {
          "base_uri": "https://localhost:8080/"
        },
        "outputId": "b1ea99fa-bd07-4c87-d9eb-4b9374d6be2e"
      },
      "execution_count": null,
      "outputs": [
        {
          "metadata": {
            "tags": null
          },
          "name": "stdout",
          "output_type": "stream",
          "text": [
            "\u001b[K\u001b[?25hnpx: installed 22 in 2.915s\n",
            "your url is: https://evil-birds-repeat.loca.lt\n"
          ]
        }
      ]
    },
    {
      "cell_type": "markdown",
      "source": [
        "# Interview Readiness"
      ],
      "metadata": {
        "id": "ttFiugdbA0eG"
      }
    },
    {
      "cell_type": "markdown",
      "source": [
        "1. Embed the [Edmonton Property Assessment Map ](https://www.google.com/maps/d/u/0/edit?mid=1KGLesDxxP4C2u7B4q_CRe4z-RC1cU7Y&usp=sharing)\n",
        "\n",
        "\n",
        "2. You can use the map copy or create your own map using the [Edmonton Property Dataset](https://docs.google.com/spreadsheets/d/1v4q0Lm0deUbso9U722lnVLOXKSDyq-YcvcxM5T6kbFk/edit?usp=sharing)\n",
        "\n",
        "\n",
        "\n",
        "3. Add Ward/Route Info to LHS Menu on Edmonton Property Dataset using the [Client details provided](https://can01.safelinks.protection.outlook.com/?url=https%3A%2F%2Fdocs.google.com%2Fdocument%2Fd%2F19ph-iEKx-3FbmLzZzfk3mrj5iWp2htCxI3auy8C1Cgc%2Fedit%3Fusp%3Dsharing&data=05%7C01%7CUchenna.Mgbaja%40norquest.ca%7C6b20f37ba0fd46f1626008dbb977a587%7C2ba011f1f50a44f3a200db3ea74e29b7%7C0%7C0%7C638307695776599931%7CUnknown%7CTWFpbGZsb3d8eyJWIjoiMC4wLjAwMDAiLCJQIjoiV2luMzIiLCJBTiI6Ik1haWwiLCJXVCI6Mn0%3D%7C3000%7C%7C%7C&sdata=GfGOraIhRABMbzEv3%2FkD5j350UqKT4PzOJIXQ2FW6%2FU%3D&reserved=0)\n",
        "\n",
        "\n",
        "\n",
        "\n",
        "\n"
      ],
      "metadata": {
        "id": "TOWrCpiDQxnE"
      }
    },
    {
      "cell_type": "markdown",
      "source": [
        "# Resources\n",
        "\n",
        "1. https://www.myrouteonline.com/blog/how-to-draw-route-on-google-maps-custom-route-options\n",
        "\n",
        "https://www.youtube.com/watch?v=FSSQfEY-rec\n",
        "\n",
        "https://www.youtube.com/watch?v=LT9NkOCYI84\n",
        "\n",
        "https://www.youtube.com/watch?v=fLhyr5MGi2g\n",
        "\n",
        "[Integrate to Google Form ](https://www.youtube.com/watch?v=mCpG5Nr0yRs)"
      ],
      "metadata": {
        "id": "9H83B600RoCp"
      }
    }
  ]
}